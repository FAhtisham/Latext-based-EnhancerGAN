{
  "nbformat": 4,
  "nbformat_minor": 0,
  "metadata": {
    "colab": {
      "name": "EDGAN.ipynb",
      "provenance": [],
      "authorship_tag": "ABX9TyMlgaOSg1Ph+//hXmPNgG7h",
      "include_colab_link": true
    },
    "kernelspec": {
      "name": "python3",
      "display_name": "Python 3"
    },
    "language_info": {
      "name": "python"
    }
  },
  "cells": [
    {
      "cell_type": "markdown",
      "metadata": {
        "id": "view-in-github",
        "colab_type": "text"
      },
      "source": [
        "<a href=\"https://colab.research.google.com/github/FAhtisham/Latext-based-EnhancerGAN/blob/main/EngancerGAN.ipynb\" target=\"_parent\"><img src=\"https://colab.research.google.com/assets/colab-badge.svg\" alt=\"Open In Colab\"/></a>"
      ]
    },
    {
      "cell_type": "markdown",
      "metadata": {
        "id": "Rl5jzIcVJ2RA"
      },
      "source": [
        "# Import Libraries"
      ]
    },
    {
      "cell_type": "code",
      "metadata": {
        "id": "XY8WmdezJ4kW"
      },
      "source": [
        "import torch\n",
        "import torch.nn as nn\n",
        "import torch.nn.functional as F\n",
        "import torch.optim\n",
        "from torch.utils.data import Dataset, DataLoader\n",
        "\n",
        "\n",
        "import numpy as np\n",
        "import matplotlib.pyplot as plt\n",
        "\n",
        "import numpy as np\n",
        "import collections"
      ],
      "execution_count": 59,
      "outputs": []
    },
    {
      "cell_type": "markdown",
      "metadata": {
        "id": "aFqya-_9J54x"
      },
      "source": [
        "# Load the Dataset"
      ]
    },
    {
      "cell_type": "code",
      "metadata": {
        "id": "T40Jkdu3JjaX"
      },
      "source": [
        "def read_fasta( fp):\n",
        "        name, seq = None, []\n",
        "        for line in fp:\n",
        "            line = line.rstrip()\n",
        "            if line.startswith(\">\"):\n",
        "                if name: yield (name, ''.join(seq))\n",
        "                name, seq = line, []\n",
        "            else:\n",
        "                seq.append(line)\n",
        "        if name: yield (name, ''.join(seq))\n",
        "\n",
        "\n",
        "\n",
        "def load_data():\n",
        "        sequences = []\n",
        "        # Reading FASTA file\n",
        "        with open(\"permissive_enhancers\",\"r\") as fp:\n",
        "            for name, seq in read_fasta(fp):\n",
        "                sequences.append(seq)\n",
        "            print(\"Sequences Read Succesfully !!!!\")\n",
        "        print(\"Total Raw Sequences: \",len(sequences))\n",
        "        return sequences\n",
        "\n",
        "def add_padding(seq, p_len):\n",
        "  seq = seq + (\"P\" * p_len)\n",
        "  return seq\n",
        "  \n",
        "\n",
        "def convert_seqs_to_words(sequences):\n",
        "  f_sequences = []\n",
        "  for i in range(len(sequences)):\n",
        "    temp = \"\"\n",
        "    str_ = sequences[i]\n",
        "    j=0\n",
        "\n",
        "    if len(str_)%3!=0:\n",
        "      n = len(str_)\n",
        "      while n % 3 != 0:\n",
        "        n+=1\n",
        "      str_= add_padding(str_,n-len(str_))\n",
        "\n",
        "    for k in range(0,len(str_)):\n",
        "      j+=1\n",
        "      if  j%3==0:\n",
        "        temp = temp + str_[k-2:j] + ' ' \n",
        "        #j+=3\n",
        "    f_sequences.append(temp) \n",
        "  return f_sequences\n"
      ],
      "execution_count": 53,
      "outputs": []
    },
    {
      "cell_type": "code",
      "metadata": {
        "colab": {
          "base_uri": "https://localhost:8080/"
        },
        "id": "4xXCqBLyKEHv",
        "outputId": "8eda3f5b-9705-4c33-8041-ded444a8c230"
      },
      "source": [
        "f_sequences = convert_seqs_to_words(load_data())\n",
        "print(\"Total Processed Sequences: \",len(f_sequences))"
      ],
      "execution_count": 55,
      "outputs": [
        {
          "output_type": "stream",
          "text": [
            "Sequences Read Succesfully !!!!\n",
            "Total Raw Sequences:  43011\n",
            "Total Processed Sequences:  43011\n"
          ],
          "name": "stdout"
        }
      ]
    },
    {
      "cell_type": "markdown",
      "metadata": {
        "id": "y5G0Jf3Yy2d6"
      },
      "source": [
        "# Dataset Preprocessing"
      ]
    },
    {
      "cell_type": "code",
      "metadata": {
        "id": "SgD6Ac9Ky1bj"
      },
      "source": [
        "class Nucleotides:\n",
        "  def __init__(self, seqs):\n",
        "    self.nuc_pairs= self.make_pairs(seqs)\n",
        "    self.encoding= {w:i for i,w in enumerate(self.nuc_pairs,1)}\n",
        "    self.decoding= {i:w for i,w in enumerate(self.nuc_pairs,1)}\n",
        "\n",
        "\n",
        "  def make_pairs(self, seqs, clip=1):\n",
        "    nuc_pairs= collections.Counter()\n",
        "\n",
        "    for seq in seqs:\n",
        "      nuc_pairs.update(seq)\n",
        "\n",
        "\n",
        "class Sequences(Dataset):\n",
        "  def __init__(self):\n"
      ],
      "execution_count": null,
      "outputs": []
    },
    {
      "cell_type": "markdown",
      "metadata": {
        "id": "9d7NXbpvfJn-"
      },
      "source": [
        "# Autoencoder Model"
      ]
    },
    {
      "cell_type": "code",
      "metadata": {
        "id": "LiPOkzZXKLR2"
      },
      "source": [
        "class Autoencoder(nn.Module):\n",
        "  def __init__(self, nuc_pair_size, embedding_dims, e_hidden_dims, bottleneck_dims, dec_hidden_dims, dropout_size = 0.2):\n",
        "    super().__init__()\n",
        "    \n",
        "    # define the vars over here (layers, objects)\n",
        "    self.embedding= nn.Embedding(num_embeddings= nuc_pair_size, embedding_dim= embedding_dims)\n",
        "    self.rnn1= nn.LSTM(input_size= embedding_dims, hidden_size= e_hidden_dims)\n",
        "    self.fc1= nn.Linear(input= e_hidden_dims, out_features= bottleneck_dims)\n",
        "    self.a1= nn.ReLU(True)\n",
        "    self.dropout= nn.Dropout(dropout_size)\n",
        "\n",
        "    self.fc2= nn.Linear(input= bottleneck_dims, output_features= d_hidden_dims)\n",
        "    self.rnn2= nn.LSTM(input_size= dec_hidden_dims, hidden_size= d_hidden_dims)\n",
        "    self.fc3= nn.Linear(input= d_hidden_dims, output_features= nuc_pair_size)\n",
        "\n",
        "\n",
        "\n",
        "  def encoder(self, x):\n",
        "    x= self.embedding(x)\n",
        "    _,(hidden_states, _)= self.rnn1(x)\n",
        "    lv= self.fc1(x) # latent vector\n",
        "    lv= self.Dropout(lv)\n",
        "    return lv\n",
        "\n",
        "\n",
        "  def decoder(self, lv):\n",
        "    lv= self.fc2(lv)\n",
        "    output, _= self.rnn2(lv)\n",
        "    logits= self.fc3(output)\n",
        "    return logits\n",
        "  \n",
        "  def forward(self,x):\n",
        "    lv= self.encoder(x)\n",
        "    logits= self.decoder(lv)\n",
        "    return (lv.squeeze(), logits)"
      ],
      "execution_count": 45,
      "outputs": []
    },
    {
      "cell_type": "markdown",
      "metadata": {
        "id": "AvzR1pCDfN5N"
      },
      "source": [
        "# Training Loop\n"
      ]
    },
    {
      "cell_type": "code",
      "metadata": {
        "id": "5ebZMRjIfSYz"
      },
      "source": [
        ""
      ],
      "execution_count": null,
      "outputs": []
    },
    {
      "cell_type": "code",
      "metadata": {
        "colab": {
          "base_uri": "https://localhost:8080/"
        },
        "id": "ZLev8oLdVwdV",
        "outputId": "ba6f03e8-2136-4e58-a3cb-ba217ba99b13"
      },
      "source": [
        "arr = torch.tensor([[1,2],[3,4],[5,6]])\n",
        "arr.size()\n",
        "arr = arr.permute(1,0)\n",
        "arr.size()\n",
        "arr"
      ],
      "execution_count": 39,
      "outputs": [
        {
          "output_type": "execute_result",
          "data": {
            "text/plain": [
              "tensor([[1, 3, 5],\n",
              "        [2, 4, 6]])"
            ]
          },
          "metadata": {
            "tags": []
          },
          "execution_count": 39
        }
      ]
    },
    {
      "cell_type": "code",
      "metadata": {
        "colab": {
          "base_uri": "https://localhost:8080/"
        },
        "id": "uM_z0VHGXWTl",
        "outputId": "b036b149-ebbb-48b8-e2b0-712f97eb516e"
      },
      "source": [
        "arr2 = torch.randn(3,5,2)\n",
        "print(arr2.size())\n",
        "print(arr2)\n",
        "arr2= arr2.permute(2,0,1)\n",
        "print(arr2.size())\n",
        "print(arr2)"
      ],
      "execution_count": 38,
      "outputs": [
        {
          "output_type": "stream",
          "text": [
            "torch.Size([3, 5, 2])\n",
            "tensor([[[ 0.2006,  1.8473],\n",
            "         [ 0.1055, -1.1586],\n",
            "         [ 0.1208,  0.3094],\n",
            "         [-0.0632, -0.5114],\n",
            "         [ 0.2881,  1.3463]],\n",
            "\n",
            "        [[-0.3929,  1.1025],\n",
            "         [ 1.2375,  0.4721],\n",
            "         [-0.2026,  0.5434],\n",
            "         [-0.2871, -0.9966],\n",
            "         [-0.8792, -0.4815]],\n",
            "\n",
            "        [[-1.4430, -0.9805],\n",
            "         [ 0.2667,  0.6952],\n",
            "         [-0.1730, -1.1442],\n",
            "         [ 0.8840,  0.5541],\n",
            "         [-0.0819, -0.5837]]])\n",
            "torch.Size([2, 3, 5])\n",
            "tensor([[[ 0.2006,  0.1055,  0.1208, -0.0632,  0.2881],\n",
            "         [-0.3929,  1.2375, -0.2026, -0.2871, -0.8792],\n",
            "         [-1.4430,  0.2667, -0.1730,  0.8840, -0.0819]],\n",
            "\n",
            "        [[ 1.8473, -1.1586,  0.3094, -0.5114,  1.3463],\n",
            "         [ 1.1025,  0.4721,  0.5434, -0.9966, -0.4815],\n",
            "         [-0.9805,  0.6952, -1.1442,  0.5541, -0.5837]]])\n"
          ],
          "name": "stdout"
        }
      ]
    },
    {
      "cell_type": "code",
      "metadata": {
        "id": "jL4woNB6ZmvF"
      },
      "source": [
        ""
      ],
      "execution_count": null,
      "outputs": []
    }
  ]
}